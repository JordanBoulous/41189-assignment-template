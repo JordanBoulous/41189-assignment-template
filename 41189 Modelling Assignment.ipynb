{
 "cells": [
  {
   "cell_type": "markdown",
   "metadata": {
    "incorrectly_encoded_metadata": "toc-hr-collapsed=false"
   },
   "source": [
    " **41189 Modelling Assignment — Group 6**\n",
    " \n",
    " Topic: Measuring both the spread of Covid-19 and society’s response to preventative measures to the pandemic\n",
    " \n",
    " Group members:\n",
    " \n",
    " - Jordan Boulous\n",
    " - Alex Rebello\n",
    " - Cameron Solomon\n",
    " - Raymond Lam\n",
    " "
   ]
  },
  {
   "cell_type": "markdown",
   "metadata": {
    "incorrectly_encoded_metadata": "toc-hr-collapsed=false"
   },
   "source": [
    "# Introduction"
   ]
  },
  {
   "cell_type": "markdown",
   "metadata": {},
   "source": [
    "## State the problem, why it is important/relevant to you and/or more broadly to society\n",
    "\n",
    "\n",
    "\n",
    "\n",
    "\n",
    "\n",
    "\n",
    "\n",
    "\n",
    "\n",
    "\n"
   ]
  },
  {
   "cell_type": "markdown",
   "metadata": {
    "incorrectly_encoded_metadata": "toc-hr-collapsed=false"
   },
   "source": [
    "# Context, background information, justification"
   ]
  },
  {
   "cell_type": "markdown",
   "metadata": {},
   "source": [
    "## Research and review literature, news, digital media, drivers and how the problem is being addressed by academia, industry, government, etc."
   ]
  },
  {
   "cell_type": "markdown",
   "metadata": {},
   "source": [
    "![Rich Picture](Figures/richPicture.png)\n",
    "\n",
    "\n",
    "\n",
    "\n",
    "\n"
   ]
  },
  {
   "cell_type": "markdown",
   "metadata": {},
   "source": [
    "- Archana, C., Pavan, J. & Satish, S. 2020. ‘COVID 19: Outbreak, Structure, and Current Therapeutic Strategies.’, Sakun Publishing House, vol. 11, no. 7, pp. 6825-6835. http://web.b.ebscohost.com.ezproxy.lib.uts.edu.au/ehost/pdfviewer/pdfviewer?vid=1&sid=5681bd2d-ac79-472a-8acc-63536f582b70%40sessionmgr101 \n",
    "\n",
    "This article gives a detailed description of COVID-19 and includes details about the original outbreak in Wuhan, forms of transmission, virion structure, physicochemical properties, replication, methods of diagnosis, treatment and precautions to prevent spread. The contents of the text are complete, clearly documented and use a variety of different resources to ensure accuracy. It also used very recent information that was available and despite being released in July, the article is still relevant in September. The authors study pharmacy, biomedical science and life science - so there may be some vested interest and bias due to the authors studying similar courses.\n",
    "The article states that person-to-person transmission is likely for COVID-19 and is primarily spread through direct contact and droplets from a cough or sneeze. However, it was also found in stool samples, the gastrointestinal tract, saliva and urine. It also states that the SARS-CoV-2 (COVID-19) virion is spherical with a diameter of 80-120nm, contains a non-segmented, positive-sense RNA genome and contains numerous glycoproteins. Diagnosis and testing involves a swab and is often performed when a patient experiences fever, a sore throat, dry cough, dyspnea or they were in contact with a recent confirmed case.\n",
    "Preventative measures include wearing face masks and other personal protective equipment (gloves), good hand hygiene, social distancing, isolation and quarantine. Rapid diagnosis, vaccines and therapeutics are critical in managing the COVID-19 pandemic.\n"
   ]
  },
  {
   "cell_type": "markdown",
   "metadata": {},
   "source": [
    "- Australian Government, 2020. ‘What you need to know about coronavirus (COVID-19)’, Department of Health.https://www.health.gov.au/news/health-alerts/novel-coronavirus-2019-ncov-health-alert/what-you-need-to-know-about-coronavirus-covid-19 \n",
    "\n",
    "This news page from the Australian Government explains what COVID-19 is, symptoms and what to do if you have them, how it spreads, at risk demographics, preventative measures, how to get tested and the post-testing process. As it is written by the government, the information is complete, accurate and comes from a reliable source. The page and the pages for the individual states are constantly being updated as the situation progresses.\n",
    "The page also examines the symptoms of COVID-19 as the previous article did, although this is in a more concise manner. It explains how the seriousness of COVID-19 can range from a mild illness to pneumonia and how some recover quicker than others. It lists the same symptoms as the article (fever, cough, shortness of breath, sore throat) as well as uncommon symptoms. If an individual experiences any of these symptoms, they are advised to get tested and contact the ‘Coronavirus Helpline’ which provides 24/7 support. It is important to isolate after getting tested. The demographics most at risk according to the page are travellers who have recently been overseas, those who have been in contact with someone with COVID-19, people in correctional facilities and people in group residential settings. If an individual has been overseas, they must isolate for 14 days and testing is important. Those most at risk of serious illness include older people and people with compromised immune systems, disabilities or chronic conditions. The page also covers the same preventative measures as the article as well as avoiding public gatherings, and give links to explain how each measure is effective. Many places of academia and businesses apply these preventative measures to prevent the spread of COVID-19. \n",
    "Various other government pages are available for each state and territory which discuss the different preventative measures and management of COVID-19. One of these include ‘Financial assistance for businesses’ on the NSW page as many businesses are struggling financially due to people isolating.\n"
   ]
  },
  {
   "cell_type": "markdown",
   "metadata": {},
   "source": [
    "## Identify the system + stakeholders. For this, you will need to construct a “rich picture” that captures the essential elements.\n",
    "\n",
    "\n",
    "\n",
    "\n",
    "\n",
    "\n",
    "\n",
    "\n",
    "\n",
    "\n",
    "\n"
   ]
  },
  {
   "cell_type": "markdown",
   "metadata": {},
   "source": [
    "## Identify current models or prevailing frames that are being used to address the problem\n",
    "\n",
    "\n",
    "\n",
    "\n",
    "\n",
    "\n",
    "\n",
    "\n",
    "\n",
    "\n",
    "\n"
   ]
  },
  {
   "cell_type": "markdown",
   "metadata": {},
   "source": [
    "## Discuss how prevailing models/frames are preventing the problem from being fully addressed or solved\n",
    "\n",
    "\n",
    "\n",
    "\n",
    "\n",
    "\n",
    "\n",
    "\n",
    "\n",
    "\n",
    "\n"
   ]
  },
  {
   "cell_type": "markdown",
   "metadata": {
    "incorrectly_encoded_metadata": "toc-hr-collapsed=false"
   },
   "source": [
    "# Conceptual Models"
   ]
  },
  {
   "cell_type": "markdown",
   "metadata": {},
   "source": [
    "## Based on your self-study of the supermarket of models, explain the three models that you have chosen to look at the problem\n",
    "\n",
    "\n",
    "\n",
    "\n",
    "\n",
    "\n",
    "\n",
    "\n",
    "\n",
    "\n",
    "\n",
    "\n",
    "\n",
    "\n"
   ]
  },
  {
   "cell_type": "markdown",
   "metadata": {},
   "source": [
    "#### Agent Based Model:\n",
    "Agent based models attempt to simulate the real world in a 1:1 ratio. This is done by simulating the actions and interactions of autonomous agents that can be individuals or collectives, while assessing and analysing their effects on the system as a whole. This behaviour is based on their relations with the other agents. \n",
    "Individual agents are characterised as a rational thinker, meaning that they behave as such to optimise their goals using heuristics. One way to interpret this is ecological rationality. This could involve an individual looking over a fence and copying their neighbour if they are doing a task better, or keep doing the same thing while occasionally trying something new. The basic idea is to imitate, exploit and explore. The decisions an individual makes propagates through a complex network of interactions and the surrounding environment.\n",
    "To simulate the real-world and complex systems, agent based models simulate the actions and interactions of autonomous agents. These agents may observe their environment, adapt to it and learn new principles that alter their way of thinking. \n",
    "\n",
    "#### Schelling’s Segregation Model:\n",
    "Schelling’s segregation model is an agent based model created by Thomas Schelling. Schelling wanted a reason as to why people of different races and incomes tend to segregate in most parts of the developed world. It explains how an individual will segregate based on the behaviour of the surrounding agents or neighbours.\n",
    "Imagine a NxN checkerboard. Some people (represented by squares) receive a higher salary AP and the others have a lower salary BP where P represents an individual. If I belong to the former category AP and most of my neighbours also belong to AP and hence AP ≥ BP, then I decide to stay. However, if most of my neighbours belong to BP and AP < BP, then I will relocate so that AP ≥ BP.\n",
    "Everyone uses this heuristic where someone decides to move or stay depending on the ratio of people who are alike. It should be noted that a micro-motive does not equal macro-behaviour in Schelling’s segregation model.\n",
    "\n",
    "#### Riot Models (Granovetter Threshold Theory):\n",
    "Granovetter’s riot model is utilised in order to measure an individual’s willingness to make a decision based on the decisions of those around them (the rioters). Each person has a threshold and if the number of rioters exceeds that threshold, the person joins in.\n",
    "N individuals indexed by i have a riot threshold, T(i) ∈ (0, 1, …, N), i.e T(i) is contained in the set of all possible, real number thresholds including 0; T(i) ∈ {ℝ+0}. Initially, any individual with a riot threshold of zero, T(i)=0, joins the riot. R(t) equals the number of people rioting at time t. Individual i participates at time t if T(i) < R(t-1).\n",
    "This model reveals the importance of the entire distribution of thresholds rather than just the mean. It also shows the difficulty of predicting social movements and which ones will be successful.\n",
    "An application of this is a group of 5 people deciding whether to wear a mask. If 0 people are wearing it and everyone has a threshold of 1 or more, nothing happens and nobody wears a mask. However, if the threshold order is 0, 1, 1, 2, 2, everyone will end up wearing a mask because the person at the start takes the initiative to wear it.\n"
   ]
  },
  {
   "cell_type": "markdown",
   "metadata": {},
   "source": [
    "## Explain how each of the three models works (brief) and how it will be applied in your case."
   ]
  },
  {
   "cell_type": "markdown",
   "metadata": {},
   "source": [
    "#### Agent Based Model:\n",
    "Agent based models are used to simulate the interactions between different agents, which may include individuals in a society, in order to monitor and analyse the behaviours of each autonomous agent based on their relations with other agents, also ensuring to comprehend their influence on the surrounding environment.\n",
    "Using the agent based model, we can establish the rates of infection and recovery according to the selected solutions. Agent-based models can be used to predict outcomes for an array of different scenarios in the Covid-19 predicament, providing reliable calculated estimates of the deaths, recoveries and infections for different preventative measures. With the application of this model, we are able to track the virus’ impact on individual agents, with constant updates occurring in order to provide a reliable model with relevant data based to assist with the tracking of infection and recovery in the Covid-19 global crisis. This can accentuate the success or failure of different preventative measures since the simulations can be compared to determine the most and least effective methods to diminish the impact of the virus.\n"
   ]
  },
  {
   "cell_type": "markdown",
   "metadata": {},
   "source": [
    "#### Schelling’s Segregation Model:\n",
    "Schelling’s segregation model is used to simulate the way in which individuals naturally segregate based on their personally selected threshold of similarity in the agents surrounding them.\n",
    "With the Schelling’s segregation model, we are able to witness the behaviours of different individuals in society during the Covid-19 pandemic, measuring their happiness and comfortability in regards to their neighbours’ willingness to accept vaccines. Hence, we are able to witness the effects of emotional segregation in different communities according to different ‘similarity rates’, which are the percentage of people surrounding individuals that they wish to be vaccinated in order to be satisfied. This is useful in regards to the possible solutions to the Covid-19 pandemic since it can be used to predict the contentment of individuals in a society after a vaccine is released, providing insight into the amount of vaccinations that need to be produced in order to create a general sense of comfort.\n"
   ]
  },
  {
   "cell_type": "markdown",
   "metadata": {},
   "source": [
    "#### Riot Model (Granovetter Threshold Theory):\n",
    "Riot models, when taking into consideration the Granovetter threshold theory, are utilised in order to measure an individual’s willingness to make a decision based on the decisions made by people around them. Each individual has their own personal threshold, which when exceeded will result in them making a certain decision, mimicking the behaviours of those around them.\n",
    "Through the use of riot models, with a specific focus on the Granovetter threshold theory, it has been made evident that we can effectively measure the threshold for different individuals to participate in accepting the vaccine and thus ‘joining the riot’. This is necessary information as it allows us to be able to recognise the number of willing participants based on the different thresholds in a society. Hence, this data can be utilised to predict the amount of vaccines that must be produced, and can also be used to predict the amount of people with specific thresholds required in order to flatten the curve representing the growth of Covid-19.  \n"
   ]
  },
  {
   "cell_type": "markdown",
   "metadata": {},
   "source": [
    "## Describe any data sources (real or hypothetical) that are needed to construct the three models. Use illustrative drawings and diagrams where possible"
   ]
  },
  {
   "attachments": {},
   "cell_type": "markdown",
   "metadata": {},
   "source": [
    "#### Agent Based Model:\n",
    "Agent based models take into consideration the number of degrees for each individual agent. This is necessary, as the degrees, or the connections, allow the model to measure the amount of interactions that each infected model may have. Also, the individual recovery rate is considered in the agent based model, with the average of 14 days being applied to agents after they have been recognised as infected. \n",
    "\n",
    "- Covid agent based model without lockdown being implemented as a preventative measure:\n",
    "\n",
    "![AgentBasedModel1.JPG](ComplexSystemsImages/AgentBasedModel1.JPG)\n",
    "\n",
    "This model is simulating the spread of covid-19 in a group of 100,000 agents over 100 days, assuming that 100 people are initially infected. These individuals are said to have an average of 20 connections, with a 1.4% chance of spreading the virus to those agents. Also, the recovery rate is approximately 14 days after an individual is infected.\n",
    "\n",
    "\n",
    "- Covid agent based model with lockdown being implemented after 15 days of the virus being present in society:\n",
    "\n",
    "![AgentBasedModel2.JPG](ComplexSystemsImages/AgentBasedModel2.JPG)\n",
    "This model keeps all the same characteristics as the prior model, except after 15 days lockdown was forced upon society, which is said to reduce interactions by 90% and will last 85 days.\n",
    "\n",
    "\n",
    "Covid-19 Demonstration Model. (2020). Retrieved 22 September 2020, from http://covidagentmodel.com/"
   ]
  },
  {
   "attachments": {},
   "cell_type": "markdown",
   "metadata": {},
   "source": [
    "#### Schelling’s Segregation Model:\n",
    "Using the segregation model provided by NetLogo, we are able to input our own similarity rate to measure the behaviours of individuals when they require X% of individuals around them to have been vaccinated in order to be satisfied.\n",
    "- Segregation Model with 0% similarity rate (0% of neighbours must be vaccinated)\n",
    "\n",
    "![Segregation1.JPG](ComplexSystemsImages/Segregation1.JPG)\n",
    "\n",
    "Individuals are not at all segregated\n",
    "\n",
    "\n",
    "- Segregation Model with 25% similarity rate (25% of neighbours must be vaccinated)\n",
    "\n",
    "![Segregation2.JPG](ComplexSystemsImages/Segregation2.JPG)\n",
    "\n",
    "Individuals are still fairly mixed with non-similar agents, but slightly segregated\n",
    "\n",
    "\n",
    "- Segregation Model with 50% similarity rate (50% of neighbours must be vaccinated)\n",
    "\n",
    "![Segregation3.JPG](ComplexSystemsImages/Segregation3.JPG)\n",
    "\n",
    "Individuals are heavily, but not entirely, segregated\n",
    "\n",
    "\n",
    "- Segregation Model with 75% similarity rate (75% of neighbours must be vaccinated\n",
    "\n",
    "![Segregation4.JPG](ComplexSystemsImages/Segregation4.JPG)\n",
    "\n",
    "Individuals are almost entirely segregated.\n",
    "\n",
    "Wilensky, U. (1997). NetLogo Segregation model. http://ccl.northwestern.edu/netlogo/models/Segregation. Center for Connected Learning and Computer-Based Modeling, Northwestern University, Evanston, IL.\n"
   ]
  },
  {
   "cell_type": "markdown",
   "metadata": {},
   "source": [
    "#### Riot Model (Granovetter Threshold Theory):\n",
    "In order to use the riot model effectively, we must estimate the thresholds of individuals in a society. Assuming that the ‘riot’ action is accepting a vaccination as a preventative measure to Covid-19, then there are different hypothetical scenarios which could occur:\n",
    "- If a sample of 100 individuals is taken and the lowest threshold of an individual T(i) = 1, then nobody will take the vaccine. \n",
    "- In order to correct this, there must be an individual with T(i) = 0, which is likely for desperate individuals or individuals with a strong incentive to take the vaccine. Hence, for each individual with T(i) = 0, the number of people rioting R(t) will increase by 1. \n",
    "- Then, for each other individual, the following formula, T(i) >= R(t) is applied. If true, then they will accept the vaccine and R(t) will increase. \n",
    "- Eventually, either everyone will accept the vaccine, or those with extremely high thresholds will never accept the vaccine.\n"
   ]
  },
  {
   "cell_type": "markdown",
   "metadata": {
    "incorrectly_encoded_metadata": "toc-hr-collapsed=false"
   },
   "source": [
    "# Implementation"
   ]
  },
  {
   "cell_type": "markdown",
   "metadata": {},
   "source": [
    "## Describe the mathematical and/or statistical implementation of your three models. This should be done using Python code."
   ]
  },
  {
   "cell_type": "code",
   "execution_count": null,
   "metadata": {},
   "outputs": [],
   "source": []
  },
  {
   "cell_type": "code",
   "execution_count": null,
   "metadata": {},
   "outputs": [],
   "source": []
  },
  {
   "cell_type": "code",
   "execution_count": null,
   "metadata": {},
   "outputs": [],
   "source": []
  },
  {
   "cell_type": "markdown",
   "metadata": {
    "incorrectly_encoded_metadata": "toc-hr-collapsed=false"
   },
   "source": [
    "# Scenario analysis, sensitivity + uncertainty evaluation"
   ]
  },
  {
   "cell_type": "markdown",
   "metadata": {},
   "source": [
    "## Establish baseline parameter sets and or configuration for output scenarios"
   ]
  },
  {
   "cell_type": "code",
   "execution_count": null,
   "metadata": {},
   "outputs": [],
   "source": []
  },
  {
   "cell_type": "code",
   "execution_count": null,
   "metadata": {},
   "outputs": [],
   "source": []
  },
  {
   "cell_type": "code",
   "execution_count": null,
   "metadata": {},
   "outputs": [],
   "source": []
  },
  {
   "cell_type": "markdown",
   "metadata": {},
   "source": [
    "## Perform a basic sensitivity analysis, i.e., identify with parameters are most sensitive/insensitive for the outputs"
   ]
  },
  {
   "cell_type": "code",
   "execution_count": null,
   "metadata": {},
   "outputs": [],
   "source": []
  },
  {
   "cell_type": "code",
   "execution_count": null,
   "metadata": {},
   "outputs": [],
   "source": []
  },
  {
   "cell_type": "code",
   "execution_count": null,
   "metadata": {},
   "outputs": [],
   "source": []
  },
  {
   "cell_type": "markdown",
   "metadata": {
    "incorrectly_encoded_metadata": "toc-hr-collapsed=false"
   },
   "source": [
    "# Proposed solutions"
   ]
  },
  {
   "cell_type": "markdown",
   "metadata": {},
   "source": [
    "## Discuss potential portfolio of solutions based on your previous analysis\n"
   ]
  },
  {
   "cell_type": "code",
   "execution_count": null,
   "metadata": {},
   "outputs": [],
   "source": []
  },
  {
   "cell_type": "code",
   "execution_count": null,
   "metadata": {},
   "outputs": [],
   "source": []
  },
  {
   "cell_type": "code",
   "execution_count": null,
   "metadata": {},
   "outputs": [],
   "source": []
  },
  {
   "cell_type": "markdown",
   "metadata": {
    "incorrectly_encoded_metadata": "toc-hr-collapsed=false"
   },
   "source": [
    "# Reflection on group + individual approach to assignment"
   ]
  },
  {
   "cell_type": "markdown",
   "metadata": {},
   "source": [
    "## Each student should discuss their experiences about working on the project. The document should be no more than 1000 words per group member. It should discuss following key aspects:\n",
    "\n",
    "- Your contribution in the project\n",
    "- Other group members’ contributions\n",
    "- What positives do you take from this project? What did you learn from this project?\n",
    "- What challenges did you face in this project and how you overcame those?\n",
    "- If you are faced with dealing with a real-world problem and need to do some modelling, how would you determine which modelling approach to take. Justify your response."
   ]
  },
  {
   "cell_type": "markdown",
   "metadata": {},
   "source": [
    "### Group member 1 reflection"
   ]
  },
  {
   "cell_type": "code",
   "execution_count": null,
   "metadata": {},
   "outputs": [],
   "source": []
  },
  {
   "cell_type": "markdown",
   "metadata": {},
   "source": [
    "### Group member 2 reflection"
   ]
  },
  {
   "cell_type": "code",
   "execution_count": null,
   "metadata": {},
   "outputs": [],
   "source": []
  },
  {
   "cell_type": "markdown",
   "metadata": {},
   "source": [
    "### Group member 3 reflection"
   ]
  },
  {
   "cell_type": "code",
   "execution_count": null,
   "metadata": {},
   "outputs": [],
   "source": []
  },
  {
   "cell_type": "markdown",
   "metadata": {},
   "source": [
    "### Group member 4 reflection"
   ]
  },
  {
   "cell_type": "code",
   "execution_count": null,
   "metadata": {},
   "outputs": [],
   "source": []
  }
 ],
 "metadata": {
  "jupytext": {
   "formats": "ipynb,md"
  },
  "kernelspec": {
   "display_name": "Python 3",
   "language": "python",
   "name": "python3"
  },
  "language_info": {
   "codemirror_mode": {
    "name": "ipython",
    "version": 3
   },
   "file_extension": ".py",
   "mimetype": "text/x-python",
   "name": "python",
   "nbconvert_exporter": "python",
   "pygments_lexer": "ipython3",
   "version": "3.8.3"
  },
  "toc-autonumbering": true
 },
 "nbformat": 4,
 "nbformat_minor": 4
}
